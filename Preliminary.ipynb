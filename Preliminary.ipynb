{
  "nbformat": 4,
  "nbformat_minor": 0,
  "metadata": {
    "colab": {
      "name": "practice.ipynb",
      "provenance": [],
      "collapsed_sections": [],
      "toc_visible": true,
      "mount_file_id": "1b8Flow6AmC1SMxTdJi6KvxbksOn749BX",
      "authorship_tag": "ABX9TyMj4sK+/YpeS/a/uOXKGi77",
      "include_colab_link": true
    },
    "kernelspec": {
      "name": "python3",
      "display_name": "Python 3"
    },
    "widgets": {
      "application/vnd.jupyter.widget-state+json": {
        "f8c7fc69f58b479dbd4218f5dac46f5f": {
          "model_module": "@jupyter-widgets/controls",
          "model_name": "HBoxModel",
          "state": {
            "_view_name": "HBoxView",
            "_dom_classes": [],
            "_model_name": "HBoxModel",
            "_view_module": "@jupyter-widgets/controls",
            "_model_module_version": "1.5.0",
            "_view_count": null,
            "_view_module_version": "1.5.0",
            "box_style": "",
            "layout": "IPY_MODEL_0d225140c037416e92b994081840d708",
            "_model_module": "@jupyter-widgets/controls",
            "children": [
              "IPY_MODEL_9d2cafbae3ed47298ae077101db7029d",
              "IPY_MODEL_e0297510905b475aa2eff8d4719c5940"
            ]
          }
        },
        "0d225140c037416e92b994081840d708": {
          "model_module": "@jupyter-widgets/base",
          "model_name": "LayoutModel",
          "state": {
            "_view_name": "LayoutView",
            "grid_template_rows": null,
            "right": null,
            "justify_content": null,
            "_view_module": "@jupyter-widgets/base",
            "overflow": null,
            "_model_module_version": "1.2.0",
            "_view_count": null,
            "flex_flow": null,
            "width": null,
            "min_width": null,
            "border": null,
            "align_items": null,
            "bottom": null,
            "_model_module": "@jupyter-widgets/base",
            "top": null,
            "grid_column": null,
            "overflow_y": null,
            "overflow_x": null,
            "grid_auto_flow": null,
            "grid_area": null,
            "grid_template_columns": null,
            "flex": null,
            "_model_name": "LayoutModel",
            "justify_items": null,
            "grid_row": null,
            "max_height": null,
            "align_content": null,
            "visibility": null,
            "align_self": null,
            "height": null,
            "min_height": null,
            "padding": null,
            "grid_auto_rows": null,
            "grid_gap": null,
            "max_width": null,
            "order": null,
            "_view_module_version": "1.2.0",
            "grid_template_areas": null,
            "object_position": null,
            "object_fit": null,
            "grid_auto_columns": null,
            "margin": null,
            "display": null,
            "left": null
          }
        },
        "9d2cafbae3ed47298ae077101db7029d": {
          "model_module": "@jupyter-widgets/controls",
          "model_name": "FloatProgressModel",
          "state": {
            "_view_name": "ProgressView",
            "style": "IPY_MODEL_68623f3f2fab4cc1994ce0534ec3d4f6",
            "_dom_classes": [],
            "description": "100%",
            "_model_name": "FloatProgressModel",
            "bar_style": "success",
            "max": 160,
            "_view_module": "@jupyter-widgets/controls",
            "_model_module_version": "1.5.0",
            "value": 160,
            "_view_count": null,
            "_view_module_version": "1.5.0",
            "orientation": "horizontal",
            "min": 0,
            "description_tooltip": null,
            "_model_module": "@jupyter-widgets/controls",
            "layout": "IPY_MODEL_be455d55b5cb435ca4de14a042187be7"
          }
        },
        "e0297510905b475aa2eff8d4719c5940": {
          "model_module": "@jupyter-widgets/controls",
          "model_name": "HTMLModel",
          "state": {
            "_view_name": "HTMLView",
            "style": "IPY_MODEL_e9f5225599c94a34b7d528fae836d943",
            "_dom_classes": [],
            "description": "",
            "_model_name": "HTMLModel",
            "placeholder": "​",
            "_view_module": "@jupyter-widgets/controls",
            "_model_module_version": "1.5.0",
            "value": " 160/160 [1:44:43&lt;00:00, 39.27s/it]",
            "_view_count": null,
            "_view_module_version": "1.5.0",
            "description_tooltip": null,
            "_model_module": "@jupyter-widgets/controls",
            "layout": "IPY_MODEL_b476edcfaac248e9beb26cd55faf6feb"
          }
        },
        "68623f3f2fab4cc1994ce0534ec3d4f6": {
          "model_module": "@jupyter-widgets/controls",
          "model_name": "ProgressStyleModel",
          "state": {
            "_view_name": "StyleView",
            "_model_name": "ProgressStyleModel",
            "description_width": "initial",
            "_view_module": "@jupyter-widgets/base",
            "_model_module_version": "1.5.0",
            "_view_count": null,
            "_view_module_version": "1.2.0",
            "bar_color": null,
            "_model_module": "@jupyter-widgets/controls"
          }
        },
        "be455d55b5cb435ca4de14a042187be7": {
          "model_module": "@jupyter-widgets/base",
          "model_name": "LayoutModel",
          "state": {
            "_view_name": "LayoutView",
            "grid_template_rows": null,
            "right": null,
            "justify_content": null,
            "_view_module": "@jupyter-widgets/base",
            "overflow": null,
            "_model_module_version": "1.2.0",
            "_view_count": null,
            "flex_flow": null,
            "width": null,
            "min_width": null,
            "border": null,
            "align_items": null,
            "bottom": null,
            "_model_module": "@jupyter-widgets/base",
            "top": null,
            "grid_column": null,
            "overflow_y": null,
            "overflow_x": null,
            "grid_auto_flow": null,
            "grid_area": null,
            "grid_template_columns": null,
            "flex": null,
            "_model_name": "LayoutModel",
            "justify_items": null,
            "grid_row": null,
            "max_height": null,
            "align_content": null,
            "visibility": null,
            "align_self": null,
            "height": null,
            "min_height": null,
            "padding": null,
            "grid_auto_rows": null,
            "grid_gap": null,
            "max_width": null,
            "order": null,
            "_view_module_version": "1.2.0",
            "grid_template_areas": null,
            "object_position": null,
            "object_fit": null,
            "grid_auto_columns": null,
            "margin": null,
            "display": null,
            "left": null
          }
        },
        "e9f5225599c94a34b7d528fae836d943": {
          "model_module": "@jupyter-widgets/controls",
          "model_name": "DescriptionStyleModel",
          "state": {
            "_view_name": "StyleView",
            "_model_name": "DescriptionStyleModel",
            "description_width": "",
            "_view_module": "@jupyter-widgets/base",
            "_model_module_version": "1.5.0",
            "_view_count": null,
            "_view_module_version": "1.2.0",
            "_model_module": "@jupyter-widgets/controls"
          }
        },
        "b476edcfaac248e9beb26cd55faf6feb": {
          "model_module": "@jupyter-widgets/base",
          "model_name": "LayoutModel",
          "state": {
            "_view_name": "LayoutView",
            "grid_template_rows": null,
            "right": null,
            "justify_content": null,
            "_view_module": "@jupyter-widgets/base",
            "overflow": null,
            "_model_module_version": "1.2.0",
            "_view_count": null,
            "flex_flow": null,
            "width": null,
            "min_width": null,
            "border": null,
            "align_items": null,
            "bottom": null,
            "_model_module": "@jupyter-widgets/base",
            "top": null,
            "grid_column": null,
            "overflow_y": null,
            "overflow_x": null,
            "grid_auto_flow": null,
            "grid_area": null,
            "grid_template_columns": null,
            "flex": null,
            "_model_name": "LayoutModel",
            "justify_items": null,
            "grid_row": null,
            "max_height": null,
            "align_content": null,
            "visibility": null,
            "align_self": null,
            "height": null,
            "min_height": null,
            "padding": null,
            "grid_auto_rows": null,
            "grid_gap": null,
            "max_width": null,
            "order": null,
            "_view_module_version": "1.2.0",
            "grid_template_areas": null,
            "object_position": null,
            "object_fit": null,
            "grid_auto_columns": null,
            "margin": null,
            "display": null,
            "left": null
          }
        },
        "1aeb3f989c094fc4b8788cb3e55b0561": {
          "model_module": "@jupyter-widgets/controls",
          "model_name": "HBoxModel",
          "state": {
            "_view_name": "HBoxView",
            "_dom_classes": [],
            "_model_name": "HBoxModel",
            "_view_module": "@jupyter-widgets/controls",
            "_model_module_version": "1.5.0",
            "_view_count": null,
            "_view_module_version": "1.5.0",
            "box_style": "",
            "layout": "IPY_MODEL_ca186862efa14d68b4276058e50505c5",
            "_model_module": "@jupyter-widgets/controls",
            "children": [
              "IPY_MODEL_d56c139d7d0b42838b60a38ea00592fe",
              "IPY_MODEL_ecde3466461b4b9a8bed4bd6cb489361"
            ]
          }
        },
        "ca186862efa14d68b4276058e50505c5": {
          "model_module": "@jupyter-widgets/base",
          "model_name": "LayoutModel",
          "state": {
            "_view_name": "LayoutView",
            "grid_template_rows": null,
            "right": null,
            "justify_content": null,
            "_view_module": "@jupyter-widgets/base",
            "overflow": null,
            "_model_module_version": "1.2.0",
            "_view_count": null,
            "flex_flow": null,
            "width": null,
            "min_width": null,
            "border": null,
            "align_items": null,
            "bottom": null,
            "_model_module": "@jupyter-widgets/base",
            "top": null,
            "grid_column": null,
            "overflow_y": null,
            "overflow_x": null,
            "grid_auto_flow": null,
            "grid_area": null,
            "grid_template_columns": null,
            "flex": null,
            "_model_name": "LayoutModel",
            "justify_items": null,
            "grid_row": null,
            "max_height": null,
            "align_content": null,
            "visibility": null,
            "align_self": null,
            "height": null,
            "min_height": null,
            "padding": null,
            "grid_auto_rows": null,
            "grid_gap": null,
            "max_width": null,
            "order": null,
            "_view_module_version": "1.2.0",
            "grid_template_areas": null,
            "object_position": null,
            "object_fit": null,
            "grid_auto_columns": null,
            "margin": null,
            "display": null,
            "left": null
          }
        },
        "d56c139d7d0b42838b60a38ea00592fe": {
          "model_module": "@jupyter-widgets/controls",
          "model_name": "FloatProgressModel",
          "state": {
            "_view_name": "ProgressView",
            "style": "IPY_MODEL_80e0f04b1552460ba61d14b3311583bc",
            "_dom_classes": [],
            "description": "100%",
            "_model_name": "FloatProgressModel",
            "bar_style": "success",
            "max": 80,
            "_view_module": "@jupyter-widgets/controls",
            "_model_module_version": "1.5.0",
            "value": 80,
            "_view_count": null,
            "_view_module_version": "1.5.0",
            "orientation": "horizontal",
            "min": 0,
            "description_tooltip": null,
            "_model_module": "@jupyter-widgets/controls",
            "layout": "IPY_MODEL_ffbe9e43f97f4d5f87392119d7bb923a"
          }
        },
        "ecde3466461b4b9a8bed4bd6cb489361": {
          "model_module": "@jupyter-widgets/controls",
          "model_name": "HTMLModel",
          "state": {
            "_view_name": "HTMLView",
            "style": "IPY_MODEL_2371368aed6c4a409edb5d3073b86d76",
            "_dom_classes": [],
            "description": "",
            "_model_name": "HTMLModel",
            "placeholder": "​",
            "_view_module": "@jupyter-widgets/controls",
            "_model_module_version": "1.5.0",
            "value": " 80/80 [41:23&lt;00:00, 31.04s/it]",
            "_view_count": null,
            "_view_module_version": "1.5.0",
            "description_tooltip": null,
            "_model_module": "@jupyter-widgets/controls",
            "layout": "IPY_MODEL_36ae187ff7ee46b5a8d36ca101722c8b"
          }
        },
        "80e0f04b1552460ba61d14b3311583bc": {
          "model_module": "@jupyter-widgets/controls",
          "model_name": "ProgressStyleModel",
          "state": {
            "_view_name": "StyleView",
            "_model_name": "ProgressStyleModel",
            "description_width": "initial",
            "_view_module": "@jupyter-widgets/base",
            "_model_module_version": "1.5.0",
            "_view_count": null,
            "_view_module_version": "1.2.0",
            "bar_color": null,
            "_model_module": "@jupyter-widgets/controls"
          }
        },
        "ffbe9e43f97f4d5f87392119d7bb923a": {
          "model_module": "@jupyter-widgets/base",
          "model_name": "LayoutModel",
          "state": {
            "_view_name": "LayoutView",
            "grid_template_rows": null,
            "right": null,
            "justify_content": null,
            "_view_module": "@jupyter-widgets/base",
            "overflow": null,
            "_model_module_version": "1.2.0",
            "_view_count": null,
            "flex_flow": null,
            "width": null,
            "min_width": null,
            "border": null,
            "align_items": null,
            "bottom": null,
            "_model_module": "@jupyter-widgets/base",
            "top": null,
            "grid_column": null,
            "overflow_y": null,
            "overflow_x": null,
            "grid_auto_flow": null,
            "grid_area": null,
            "grid_template_columns": null,
            "flex": null,
            "_model_name": "LayoutModel",
            "justify_items": null,
            "grid_row": null,
            "max_height": null,
            "align_content": null,
            "visibility": null,
            "align_self": null,
            "height": null,
            "min_height": null,
            "padding": null,
            "grid_auto_rows": null,
            "grid_gap": null,
            "max_width": null,
            "order": null,
            "_view_module_version": "1.2.0",
            "grid_template_areas": null,
            "object_position": null,
            "object_fit": null,
            "grid_auto_columns": null,
            "margin": null,
            "display": null,
            "left": null
          }
        },
        "2371368aed6c4a409edb5d3073b86d76": {
          "model_module": "@jupyter-widgets/controls",
          "model_name": "DescriptionStyleModel",
          "state": {
            "_view_name": "StyleView",
            "_model_name": "DescriptionStyleModel",
            "description_width": "",
            "_view_module": "@jupyter-widgets/base",
            "_model_module_version": "1.5.0",
            "_view_count": null,
            "_view_module_version": "1.2.0",
            "_model_module": "@jupyter-widgets/controls"
          }
        },
        "36ae187ff7ee46b5a8d36ca101722c8b": {
          "model_module": "@jupyter-widgets/base",
          "model_name": "LayoutModel",
          "state": {
            "_view_name": "LayoutView",
            "grid_template_rows": null,
            "right": null,
            "justify_content": null,
            "_view_module": "@jupyter-widgets/base",
            "overflow": null,
            "_model_module_version": "1.2.0",
            "_view_count": null,
            "flex_flow": null,
            "width": null,
            "min_width": null,
            "border": null,
            "align_items": null,
            "bottom": null,
            "_model_module": "@jupyter-widgets/base",
            "top": null,
            "grid_column": null,
            "overflow_y": null,
            "overflow_x": null,
            "grid_auto_flow": null,
            "grid_area": null,
            "grid_template_columns": null,
            "flex": null,
            "_model_name": "LayoutModel",
            "justify_items": null,
            "grid_row": null,
            "max_height": null,
            "align_content": null,
            "visibility": null,
            "align_self": null,
            "height": null,
            "min_height": null,
            "padding": null,
            "grid_auto_rows": null,
            "grid_gap": null,
            "max_width": null,
            "order": null,
            "_view_module_version": "1.2.0",
            "grid_template_areas": null,
            "object_position": null,
            "object_fit": null,
            "grid_auto_columns": null,
            "margin": null,
            "display": null,
            "left": null
          }
        }
      }
    }
  },
  "cells": [
    {
      "cell_type": "markdown",
      "metadata": {
        "id": "view-in-github",
        "colab_type": "text"
      },
      "source": [
        "<a href=\"https://colab.research.google.com/github/jkjh23/BusanAIDeveloperCourse_AI_FinalProject/blob/main/Preliminary.ipynb\" target=\"_parent\"><img src=\"https://colab.research.google.com/assets/colab-badge.svg\" alt=\"Open In Colab\"/></a>"
      ]
    },
    {
      "cell_type": "markdown",
      "metadata": {
        "id": "V8z1mdmxybSh"
      },
      "source": [
        "# 데이터 불러오기"
      ]
    },
    {
      "cell_type": "code",
      "metadata": {
        "id": "ynFlTAZFyEqM",
        "outputId": "0f6df537-69d4-47d4-ae0f-f4bded3a1c6e",
        "colab": {
          "base_uri": "https://localhost:8080/",
          "height": 72
        }
      },
      "source": [
        "import matplotlib.pyplot as plt\n",
        "import numpy as np\n",
        "import pandas as pd\n",
        "import random\n",
        "\n",
        "from PIL import Image\n",
        "from sklearn.model_selection import train_test_split\n",
        "from sklearn.svm import SVC\n",
        "from sklearn.metrics import f1_score\n",
        "from sklearn.externals import joblib\n",
        "\n",
        "import warnings \n",
        "from tqdm import tqdm_notebook, tqdm"
      ],
      "execution_count": null,
      "outputs": [
        {
          "output_type": "stream",
          "text": [
            "/usr/local/lib/python3.6/dist-packages/sklearn/externals/joblib/__init__.py:15: FutureWarning: sklearn.externals.joblib is deprecated in 0.21 and will be removed in 0.23. Please import this functionality directly from joblib, which can be installed with: pip install joblib. If this warning is raised when loading pickled models, you may need to re-serialize those models with scikit-learn 0.21+.\n",
            "  warnings.warn(msg, category=FutureWarning)\n"
          ],
          "name": "stderr"
        }
      ]
    },
    {
      "cell_type": "markdown",
      "metadata": {
        "id": "jkBmtGoWia5u"
      },
      "source": [
        "- [GPU 사용해서 SVM 돌리기](https://www.kaggle.com/c/2019-ml-finalproject/discussion/119011)"
      ]
    },
    {
      "cell_type": "code",
      "metadata": {
        "id": "iCIbUmauyQXn",
        "outputId": "3d7967e0-1a30-4406-b7b0-423b82fee5d0",
        "colab": {
          "base_uri": "https://localhost:8080/",
          "height": 402
        }
      },
      "source": [
        "df = pd.read_csv('/content/drive/My Drive/2020_AI_Contest/Data/train/train.tsv', sep='\\t', names=['file_name', 'plant_label', 'disease_label'])\n",
        "df"
      ],
      "execution_count": 19,
      "outputs": [
        {
          "output_type": "execute_result",
          "data": {
            "text/html": [
              "<div>\n",
              "<style scoped>\n",
              "    .dataframe tbody tr th:only-of-type {\n",
              "        vertical-align: middle;\n",
              "    }\n",
              "\n",
              "    .dataframe tbody tr th {\n",
              "        vertical-align: top;\n",
              "    }\n",
              "\n",
              "    .dataframe thead th {\n",
              "        text-align: right;\n",
              "    }\n",
              "</style>\n",
              "<table border=\"1\" class=\"dataframe\">\n",
              "  <thead>\n",
              "    <tr style=\"text-align: right;\">\n",
              "      <th></th>\n",
              "      <th>file_name</th>\n",
              "      <th>plant_label</th>\n",
              "      <th>disease_label</th>\n",
              "    </tr>\n",
              "  </thead>\n",
              "  <tbody>\n",
              "    <tr>\n",
              "      <th>0</th>\n",
              "      <td>3_5_1123.jpg</td>\n",
              "      <td>3</td>\n",
              "      <td>5</td>\n",
              "    </tr>\n",
              "    <tr>\n",
              "      <th>1</th>\n",
              "      <td>3_20_1048.jpg</td>\n",
              "      <td>3</td>\n",
              "      <td>20</td>\n",
              "    </tr>\n",
              "    <tr>\n",
              "      <th>2</th>\n",
              "      <td>4_2_401.jpg</td>\n",
              "      <td>4</td>\n",
              "      <td>2</td>\n",
              "    </tr>\n",
              "    <tr>\n",
              "      <th>3</th>\n",
              "      <td>4_7_740.jpg</td>\n",
              "      <td>4</td>\n",
              "      <td>7</td>\n",
              "    </tr>\n",
              "    <tr>\n",
              "      <th>4</th>\n",
              "      <td>4_11_93.jpg</td>\n",
              "      <td>4</td>\n",
              "      <td>11</td>\n",
              "    </tr>\n",
              "    <tr>\n",
              "      <th>...</th>\n",
              "      <td>...</td>\n",
              "      <td>...</td>\n",
              "      <td>...</td>\n",
              "    </tr>\n",
              "    <tr>\n",
              "      <th>15995</th>\n",
              "      <td>13_15_1600.jpg</td>\n",
              "      <td>13</td>\n",
              "      <td>15</td>\n",
              "    </tr>\n",
              "    <tr>\n",
              "      <th>15996</th>\n",
              "      <td>13_16_1570.jpg</td>\n",
              "      <td>13</td>\n",
              "      <td>16</td>\n",
              "    </tr>\n",
              "    <tr>\n",
              "      <th>15997</th>\n",
              "      <td>13_17_986.jpg</td>\n",
              "      <td>13</td>\n",
              "      <td>17</td>\n",
              "    </tr>\n",
              "    <tr>\n",
              "      <th>15998</th>\n",
              "      <td>13_18_4980.jpg</td>\n",
              "      <td>13</td>\n",
              "      <td>18</td>\n",
              "    </tr>\n",
              "    <tr>\n",
              "      <th>15999</th>\n",
              "      <td>13_20_282.jpg</td>\n",
              "      <td>13</td>\n",
              "      <td>20</td>\n",
              "    </tr>\n",
              "  </tbody>\n",
              "</table>\n",
              "<p>16000 rows × 3 columns</p>\n",
              "</div>"
            ],
            "text/plain": [
              "            file_name  plant_label  disease_label\n",
              "0        3_5_1123.jpg            3              5\n",
              "1       3_20_1048.jpg            3             20\n",
              "2         4_2_401.jpg            4              2\n",
              "3         4_7_740.jpg            4              7\n",
              "4         4_11_93.jpg            4             11\n",
              "...               ...          ...            ...\n",
              "15995  13_15_1600.jpg           13             15\n",
              "15996  13_16_1570.jpg           13             16\n",
              "15997   13_17_986.jpg           13             17\n",
              "15998  13_18_4980.jpg           13             18\n",
              "15999   13_20_282.jpg           13             20\n",
              "\n",
              "[16000 rows x 3 columns]"
            ]
          },
          "metadata": {
            "tags": []
          },
          "execution_count": 19
        }
      ]
    },
    {
      "cell_type": "code",
      "metadata": {
        "id": "J2o9nrekHP_6",
        "outputId": "68753f08-b720-4cd9-b9d4-5b19d6435e89",
        "colab": {
          "base_uri": "https://localhost:8080/",
          "height": 402
        }
      },
      "source": [
        "warnings.filterwarnings(action='ignore')\n",
        "df['class_label'] = 'Nan'\n",
        "\n",
        "comb = [(df.plant_label[i], df.disease_label[i]) for i in range(0,df.shape[0])]\n",
        "combUnique = []\n",
        "for v in comb:\n",
        "    if v not in combUnique:\n",
        "        combUnique.append(v)\n",
        "\n",
        "for i in range(0,df.shape[0]) :\n",
        "    df['class_label'][i] = combUnique.index((df.plant_label[i], df.disease_label[i]))\n",
        "\n",
        "df = df.loc[:, ['file_name', 'class_label']]\n",
        "df = df \n",
        "\n",
        "df"
      ],
      "execution_count": 20,
      "outputs": [
        {
          "output_type": "execute_result",
          "data": {
            "text/html": [
              "<div>\n",
              "<style scoped>\n",
              "    .dataframe tbody tr th:only-of-type {\n",
              "        vertical-align: middle;\n",
              "    }\n",
              "\n",
              "    .dataframe tbody tr th {\n",
              "        vertical-align: top;\n",
              "    }\n",
              "\n",
              "    .dataframe thead th {\n",
              "        text-align: right;\n",
              "    }\n",
              "</style>\n",
              "<table border=\"1\" class=\"dataframe\">\n",
              "  <thead>\n",
              "    <tr style=\"text-align: right;\">\n",
              "      <th></th>\n",
              "      <th>file_name</th>\n",
              "      <th>class_label</th>\n",
              "    </tr>\n",
              "  </thead>\n",
              "  <tbody>\n",
              "    <tr>\n",
              "      <th>0</th>\n",
              "      <td>3_5_1123.jpg</td>\n",
              "      <td>0</td>\n",
              "    </tr>\n",
              "    <tr>\n",
              "      <th>1</th>\n",
              "      <td>3_20_1048.jpg</td>\n",
              "      <td>1</td>\n",
              "    </tr>\n",
              "    <tr>\n",
              "      <th>2</th>\n",
              "      <td>4_2_401.jpg</td>\n",
              "      <td>2</td>\n",
              "    </tr>\n",
              "    <tr>\n",
              "      <th>3</th>\n",
              "      <td>4_7_740.jpg</td>\n",
              "      <td>3</td>\n",
              "    </tr>\n",
              "    <tr>\n",
              "      <th>4</th>\n",
              "      <td>4_11_93.jpg</td>\n",
              "      <td>4</td>\n",
              "    </tr>\n",
              "    <tr>\n",
              "      <th>...</th>\n",
              "      <td>...</td>\n",
              "      <td>...</td>\n",
              "    </tr>\n",
              "    <tr>\n",
              "      <th>15995</th>\n",
              "      <td>13_15_1600.jpg</td>\n",
              "      <td>15</td>\n",
              "    </tr>\n",
              "    <tr>\n",
              "      <th>15996</th>\n",
              "      <td>13_16_1570.jpg</td>\n",
              "      <td>16</td>\n",
              "    </tr>\n",
              "    <tr>\n",
              "      <th>15997</th>\n",
              "      <td>13_17_986.jpg</td>\n",
              "      <td>17</td>\n",
              "    </tr>\n",
              "    <tr>\n",
              "      <th>15998</th>\n",
              "      <td>13_18_4980.jpg</td>\n",
              "      <td>18</td>\n",
              "    </tr>\n",
              "    <tr>\n",
              "      <th>15999</th>\n",
              "      <td>13_20_282.jpg</td>\n",
              "      <td>19</td>\n",
              "    </tr>\n",
              "  </tbody>\n",
              "</table>\n",
              "<p>16000 rows × 2 columns</p>\n",
              "</div>"
            ],
            "text/plain": [
              "            file_name class_label\n",
              "0        3_5_1123.jpg           0\n",
              "1       3_20_1048.jpg           1\n",
              "2         4_2_401.jpg           2\n",
              "3         4_7_740.jpg           3\n",
              "4         4_11_93.jpg           4\n",
              "...               ...         ...\n",
              "15995  13_15_1600.jpg          15\n",
              "15996  13_16_1570.jpg          16\n",
              "15997   13_17_986.jpg          17\n",
              "15998  13_18_4980.jpg          18\n",
              "15999   13_20_282.jpg          19\n",
              "\n",
              "[16000 rows x 2 columns]"
            ]
          },
          "metadata": {
            "tags": []
          },
          "execution_count": 20
        }
      ]
    },
    {
      "cell_type": "markdown",
      "metadata": {
        "id": "PAt1xCiwySFv"
      },
      "source": [
        "## 이미지 확인"
      ]
    },
    {
      "cell_type": "code",
      "metadata": {
        "id": "SceKpiKdyhd5",
        "outputId": "4876ba99-4ea5-416e-dbe1-6625142af334",
        "colab": {
          "base_uri": "https://localhost:8080/",
          "height": 273
        }
      },
      "source": [
        "img = Image.open('/content/drive/My Drive/2020_AI_Contest/Data/train/3_5_22.jpg')\n",
        "img"
      ],
      "execution_count": null,
      "outputs": [
        {
          "output_type": "execute_result",
          "data": {
            "image/png": "[encoded data removed]",
            "text/plain": [
              "<PIL.JpegImagePlugin.JpegImageFile image mode=RGB size=256x256 at 0x7F05B47C51D0>"
            ]
          },
          "metadata": {
            "tags": []
          },
          "execution_count": 4
        }
      ]
    },
    {
      "cell_type": "code",
      "metadata": {
        "id": "ZZ5JIFA5ykPx",
        "outputId": "df58f256-e765-448d-acda-7c0db2811698",
        "colab": {
          "base_uri": "https://localhost:8080/",
          "height": 34
        }
      },
      "source": [
        "type(img), np.array(img).shape, img.size"
      ],
      "execution_count": null,
      "outputs": [
        {
          "output_type": "execute_result",
          "data": {
            "text/plain": [
              "(PIL.JpegImagePlugin.JpegImageFile, (256, 256, 3), (256, 256))"
            ]
          },
          "metadata": {
            "tags": []
          },
          "execution_count": 5
        }
      ]
    },
    {
      "cell_type": "markdown",
      "metadata": {
        "id": "0M1x1dC1G2s9"
      },
      "source": [
        "# SVM"
      ]
    },
    {
      "cell_type": "markdown",
      "metadata": {
        "id": "nvIWsq0JMzK-"
      },
      "source": [
        "## 전체 데이터 - 컬러 - 학습"
      ]
    },
    {
      "cell_type": "markdown",
      "metadata": {
        "id": "RW4nCWZPwfpJ"
      },
      "source": [
        "### 100개 단위, rbf"
      ]
    },
    {
      "cell_type": "code",
      "metadata": {
        "id": "4FJOghxaHFof",
        "outputId": "2d26e8cd-224e-40ee-df31-10cf1b983a88",
        "colab": {
          "base_uri": "https://localhost:8080/",
          "height": 66,
          "referenced_widgets": [
            "f8c7fc69f58b479dbd4218f5dac46f5f",
            "0d225140c037416e92b994081840d708",
            "9d2cafbae3ed47298ae077101db7029d",
            "e0297510905b475aa2eff8d4719c5940",
            "68623f3f2fab4cc1994ce0534ec3d4f6",
            "be455d55b5cb435ca4de14a042187be7",
            "e9f5225599c94a34b7d528fae836d943",
            "b476edcfaac248e9beb26cd55faf6feb"
          ]
        }
      },
      "source": [
        "model = SVC()\n",
        "\n",
        "for muldf in tqdm_notebook(range(0,160)) :\n",
        "  num = 100 * muldf\n",
        "  dfPart = df[num:num+100]\n",
        "  dfPart.reset_index(drop=True, inplace=True)\n",
        "\n",
        "  img = Image.open('/content/drive/My Drive/2020_AI_Contest/Data/train/3_5_22.jpg')\n",
        "  img = np.array(img)\n",
        "\n",
        "  X = np.zeros((dfPart.shape[0], img.shape[0]*img.shape[1]*img.shape[2]))\n",
        "  for i in range(0, dfPart.shape[0]) :\n",
        "      img = Image.open(\"/content/drive/My Drive/2020_AI_Contest/Data/train/\" + dfPart.file_name[i])\n",
        "      img = np.array(img)\n",
        "      img = img.reshape(img.shape[0] * img.shape[1] * img.shape[2])\n",
        "      X[i] = img\n",
        "\n",
        "  y = np.zeros((dfPart.shape[0],))\n",
        "  for i in range(0, dfPart.shape[0]) :\n",
        "      y[i] = dfPart['class_label'][i]\n",
        "\n",
        "  X_train, X_test, y_train, y_test = train_test_split( X, y, test_size=0.2, random_state=1 )\n",
        "  model.fit(X_train, y_train)"
      ],
      "execution_count": null,
      "outputs": [
        {
          "output_type": "display_data",
          "data": {
            "application/vnd.jupyter.widget-view+json": {
              "model_id": "f8c7fc69f58b479dbd4218f5dac46f5f",
              "version_minor": 0,
              "version_major": 2
            },
            "text/plain": [
              "HBox(children=(FloatProgress(value=0.0, max=160.0), HTML(value='')))"
            ]
          },
          "metadata": {
            "tags": []
          }
        },
        {
          "output_type": "stream",
          "text": [
            "\n"
          ],
          "name": "stdout"
        }
      ]
    },
    {
      "cell_type": "code",
      "metadata": {
        "id": "LDJbpiRfNXC7",
        "outputId": "b39b0a9a-967e-4af9-ddd7-c35f5c5fdcec",
        "colab": {
          "base_uri": "https://localhost:8080/",
          "height": 34
        }
      },
      "source": [
        "joblib.dump(model, 'entire_color.pkl') "
      ],
      "execution_count": null,
      "outputs": [
        {
          "output_type": "execute_result",
          "data": {
            "text/plain": [
              "['entire_color.pkl']"
            ]
          },
          "metadata": {
            "tags": []
          },
          "execution_count": 9
        }
      ]
    },
    {
      "cell_type": "code",
      "metadata": {
        "id": "pdjdDaXaORUR",
        "outputId": "9bea64f5-f0ce-4e0c-eb84-448e232843ec",
        "colab": {
          "base_uri": "https://localhost:8080/",
          "height": 34
        }
      },
      "source": [
        "# 드라이브에 저장\n",
        "# joblib.dump(model, '/content/drive/My Drive/2020_AI_Contest/entire_color.pkl') "
      ],
      "execution_count": null,
      "outputs": [
        {
          "output_type": "execute_result",
          "data": {
            "text/plain": [
              "['/content/drive/My Drive/2020_AI_Contest/entire_color.pkl']"
            ]
          },
          "metadata": {
            "tags": []
          },
          "execution_count": 10
        }
      ]
    },
    {
      "cell_type": "code",
      "metadata": {
        "id": "FUUojqDcN6RL"
      },
      "source": [
        "model = joblib.load('entire_color.pkl') "
      ],
      "execution_count": null,
      "outputs": []
    },
    {
      "cell_type": "code",
      "metadata": {
        "id": "xssPpMKQMCPk"
      },
      "source": [
        "img = Image.open('/content/drive/My Drive/2020_AI_Contest/Data/train/3_5_22.jpg')\n",
        "img = np.array(img)\n",
        "\n",
        "df = df[4300:5300].reset_index(drop=True)\n",
        "\n",
        "img = Image.open('/content/drive/My Drive/2020_AI_Contest/Data/train/3_5_22.jpg')\n",
        "img = np.array(img)\n",
        "\n",
        "X = np.zeros((df.shape[0], img.shape[0]*img.shape[1]*img.shape[2]))\n",
        "for i in range(0, df.shape[0]) :\n",
        "    img = Image.open(\"/content/drive/My Drive/2020_AI_Contest/Data/train/\" + df.file_name[i])\n",
        "    img = np.array(img)\n",
        "    img = img.reshape(img.shape[0] * img.shape[1] * img.shape[2])\n",
        "    X[i] = img\n",
        "\n",
        "y = np.zeros((df.shape[0],))\n",
        "for i in range(0, df.shape[0]) :\n",
        "    y[i] = df['class_label'][i]\n",
        "\n",
        "X_train, X_test, y_train, y_test = train_test_split( X, y, test_size=0.2, random_state=1 )"
      ],
      "execution_count": null,
      "outputs": []
    },
    {
      "cell_type": "code",
      "metadata": {
        "id": "aA9lNWyaHG8z",
        "outputId": "bec58285-1ab8-40e9-847d-d1694b0d2a5f",
        "colab": {
          "base_uri": "https://localhost:8080/",
          "height": 34
        }
      },
      "source": [
        "pred = model.predict(X_test)\n",
        "f1_score(y_test, pred, average='weighted')\n",
        "\n",
        "# 0.1268319997053765 => 결과가 쓰레기다"
      ],
      "execution_count": null,
      "outputs": [
        {
          "output_type": "execute_result",
          "data": {
            "text/plain": [
              "0.1268319997053765"
            ]
          },
          "metadata": {
            "tags": []
          },
          "execution_count": 12
        }
      ]
    },
    {
      "cell_type": "markdown",
      "metadata": {
        "id": "unFjXJzzwc_F"
      },
      "source": [
        "### 200개 단위, linear"
      ]
    },
    {
      "cell_type": "code",
      "metadata": {
        "id": "BXv1xYFGwkya",
        "outputId": "c1649db6-7360-4d14-da60-6e5462b3ac1a",
        "colab": {
          "base_uri": "https://localhost:8080/",
          "height": 66,
          "referenced_widgets": [
            "1aeb3f989c094fc4b8788cb3e55b0561",
            "ca186862efa14d68b4276058e50505c5",
            "d56c139d7d0b42838b60a38ea00592fe",
            "ecde3466461b4b9a8bed4bd6cb489361",
            "80e0f04b1552460ba61d14b3311583bc",
            "ffbe9e43f97f4d5f87392119d7bb923a",
            "2371368aed6c4a409edb5d3073b86d76",
            "36ae187ff7ee46b5a8d36ca101722c8b"
          ]
        }
      },
      "source": [
        "model = SVC(kernel='linear')\n",
        " \n",
        "val1 = 200\n",
        "val2 = int(df.shape[0] / val1)\n",
        "\n",
        "for muldf in tqdm_notebook(range(0,val2)) :\n",
        "  num = val1 * muldf\n",
        "  dfPart = df[num:num+val1]\n",
        "  dfPart.reset_index(drop=True, inplace=True)\n",
        "\n",
        "  img = Image.open('/content/drive/My Drive/2020_AI_Contest/Data/train/3_5_22.jpg')\n",
        "  img = np.array(img)\n",
        "\n",
        "  X = np.zeros((dfPart.shape[0], img.shape[0]*img.shape[1]*img.shape[2]))\n",
        "  for i in range(0, dfPart.shape[0]) :\n",
        "      img = Image.open(\"/content/drive/My Drive/2020_AI_Contest/Data/train/\" + dfPart.file_name[i])\n",
        "      img = np.array(img)\n",
        "      img = img.reshape(img.shape[0] * img.shape[1] * img.shape[2])\n",
        "      X[i] = img\n",
        "\n",
        "  y = np.zeros((dfPart.shape[0],))\n",
        "  for i in range(0, dfPart.shape[0]) :\n",
        "      y[i] = dfPart['class_label'][i]\n",
        "\n",
        "  X_train, X_test, y_train, y_test = train_test_split( X, y, test_size=0.2, random_state=1 )\n",
        "  model.fit(X_train, y_train)"
      ],
      "execution_count": null,
      "outputs": [
        {
          "output_type": "display_data",
          "data": {
            "application/vnd.jupyter.widget-view+json": {
              "model_id": "1aeb3f989c094fc4b8788cb3e55b0561",
              "version_minor": 0,
              "version_major": 2
            },
            "text/plain": [
              "HBox(children=(FloatProgress(value=0.0, max=80.0), HTML(value='')))"
            ]
          },
          "metadata": {
            "tags": []
          }
        },
        {
          "output_type": "stream",
          "text": [
            "\n"
          ],
          "name": "stdout"
        }
      ]
    },
    {
      "cell_type": "code",
      "metadata": {
        "id": "LOA9ZOzqxxhq",
        "outputId": "297259d4-2280-4087-ffae-1d96c2919ec8",
        "colab": {
          "base_uri": "https://localhost:8080/",
          "height": 34
        }
      },
      "source": [
        "joblib.dump(model, '/content/drive/My Drive/2020_AI_Contest/entire_color_200_linear.pkl')"
      ],
      "execution_count": null,
      "outputs": [
        {
          "output_type": "execute_result",
          "data": {
            "text/plain": [
              "['/content/drive/My Drive/2020_AI_Contest/entire_color_200_linear.pkl']"
            ]
          },
          "metadata": {
            "tags": []
          },
          "execution_count": 10
        }
      ]
    },
    {
      "cell_type": "code",
      "metadata": {
        "id": "6lPQOlivyTjw",
        "outputId": "bc39a763-2715-4f79-aada-bfa6e784dd47",
        "colab": {
          "base_uri": "https://localhost:8080/",
          "height": 34
        }
      },
      "source": [
        "img = Image.open('/content/drive/My Drive/2020_AI_Contest/Data/train/3_5_22.jpg')\n",
        "img = np.array(img)\n",
        "\n",
        "ranNum = random.randint(0, 15000)\n",
        "df = df[ranNum:ranNum+1000].reset_index(drop=True)\n",
        "\n",
        "img = Image.open('/content/drive/My Drive/2020_AI_Contest/Data/train/3_5_22.jpg')\n",
        "img = np.array(img)\n",
        "\n",
        "X = np.zeros((df.shape[0], img.shape[0]*img.shape[1]*img.shape[2]))\n",
        "for i in range(0, df.shape[0]) :\n",
        "    img = Image.open(\"/content/drive/My Drive/2020_AI_Contest/Data/train/\" + df.file_name[i])\n",
        "    img = np.array(img)\n",
        "    img = img.reshape(img.shape[0] * img.shape[1] * img.shape[2])\n",
        "    X[i] = img\n",
        "\n",
        "y = np.zeros((df.shape[0],))\n",
        "for i in range(0, df.shape[0]) :\n",
        "    y[i] = df['class_label'][i]\n",
        "\n",
        "X_train, X_test, y_train, y_test = train_test_split( X, y, test_size=0.2, random_state=1 )\n",
        "\n",
        "pred = model.predict(X_test)\n",
        "f1_score(y_test, pred, average='weighted')"
      ],
      "execution_count": null,
      "outputs": [
        {
          "output_type": "execute_result",
          "data": {
            "text/plain": [
              "0.4049340323413346"
            ]
          },
          "metadata": {
            "tags": []
          },
          "execution_count": 11
        }
      ]
    },
    {
      "cell_type": "code",
      "metadata": {
        "id": "i3KaJTGZyUr0",
        "outputId": "aad82d95-540c-4839-cbe5-03555d1ece4b",
        "colab": {
          "base_uri": "https://localhost:8080/",
          "height": 34
        }
      },
      "source": [
        "img = Image.open('/content/drive/My Drive/2020_AI_Contest/Data/train/3_5_22.jpg')\n",
        "img = np.array(img)\n",
        "\n",
        "ranNum = random.randint(0, 15000)\n",
        "df = df[ranNum:ranNum+1000].reset_index(drop=True)\n",
        "\n",
        "img = Image.open('/content/drive/My Drive/2020_AI_Contest/Data/train/3_5_22.jpg')\n",
        "img = np.array(img)\n",
        "\n",
        "X = np.zeros((df.shape[0], img.shape[0]*img.shape[1]*img.shape[2]))\n",
        "for i in range(0, df.shape[0]) :\n",
        "    img = Image.open(\"/content/drive/My Drive/2020_AI_Contest/Data/train/\" + df.file_name[i])\n",
        "    img = np.array(img)\n",
        "    img = img.reshape(img.shape[0] * img.shape[1] * img.shape[2])\n",
        "    X[i] = img\n",
        "\n",
        "y = np.zeros((df.shape[0],))\n",
        "for i in range(0, df.shape[0]) :\n",
        "    y[i] = df['class_label'][i]\n",
        "\n",
        "X_train, X_test, y_train, y_test = train_test_split( X, y, test_size=0.2, random_state=1 )\n",
        "\n",
        "pred = model.predict(X_test)\n",
        "f1_score(y_test, pred, average='weighted')"
      ],
      "execution_count": 18,
      "outputs": [
        {
          "output_type": "execute_result",
          "data": {
            "text/plain": [
              "0.3808181048525476"
            ]
          },
          "metadata": {
            "tags": []
          },
          "execution_count": 18
        }
      ]
    },
    {
      "cell_type": "code",
      "metadata": {
        "id": "F-dUJz5Yyxrx",
        "outputId": "d252117f-1144-469d-8d7e-9aa256ab36a6",
        "colab": {
          "base_uri": "https://localhost:8080/",
          "height": 34
        }
      },
      "source": [
        "img = Image.open('/content/drive/My Drive/2020_AI_Contest/Data/train/3_5_22.jpg')\n",
        "img = np.array(img)\n",
        "\n",
        "ranNum = random.randint(0, 15000)\n",
        "df = df[ranNum:ranNum+1000].reset_index(drop=True)\n",
        "\n",
        "img = Image.open('/content/drive/My Drive/2020_AI_Contest/Data/train/3_5_22.jpg')\n",
        "img = np.array(img)\n",
        "\n",
        "X = np.zeros((df.shape[0], img.shape[0]*img.shape[1]*img.shape[2]))\n",
        "for i in range(0, df.shape[0]) :\n",
        "    img = Image.open(\"/content/drive/My Drive/2020_AI_Contest/Data/train/\" + df.file_name[i])\n",
        "    img = np.array(img)\n",
        "    img = img.reshape(img.shape[0] * img.shape[1] * img.shape[2])\n",
        "    X[i] = img\n",
        "\n",
        "y = np.zeros((df.shape[0],))\n",
        "for i in range(0, df.shape[0]) :\n",
        "    y[i] = df['class_label'][i]\n",
        "\n",
        "X_train, X_test, y_train, y_test = train_test_split( X, y, test_size=0.2, random_state=1 )\n",
        "\n",
        "pred = model.predict(X_test)\n",
        "f1_score(y_test, pred, average='weighted')\n",
        "\n",
        "# 0.38 ~ 0.40 사이로 나옴"
      ],
      "execution_count": 21,
      "outputs": [
        {
          "output_type": "execute_result",
          "data": {
            "text/plain": [
              "0.38385052088360944"
            ]
          },
          "metadata": {
            "tags": []
          },
          "execution_count": 21
        }
      ]
    }
  ]
}